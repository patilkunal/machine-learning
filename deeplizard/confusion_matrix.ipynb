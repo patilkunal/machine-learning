{
 "cells": [
  {
   "cell_type": "code",
   "execution_count": 1,
   "metadata": {},
   "outputs": [],
   "source": [
    "%matplotlib inline\n",
    "import numpy as np\n",
    "from random import randint\n",
    "from sklearn.utils import shuffle\n",
    "from sklearn.preprocessing import MinMaxScaler\n",
    "\n",
    "import tensorflow as tf\n",
    "from tensorflow import keras\n",
    "from tensorflow.keras.models import Sequential\n",
    "from tensorflow.keras.layers import Activation, Dense\n",
    "from tensorflow.keras.optimizers import Adam\n",
    "from tensorflow.keras.metrics import categorical_crossentropy\n",
    "\n",
    "from sklearn.metrics import confusion_matrix, plot_confusion_matrix\n",
    "import itertools\n",
    "import matplotlib.pyplot as plt"
   ]
  },
  {
   "cell_type": "code",
   "execution_count": 2,
   "metadata": {},
   "outputs": [],
   "source": [
    "def my_plot_confusion_matrix(cm, classes, normalize=False, title='Confusion Matrix', cmap=plt.cm.Blues):\n",
    "    \"\"\"\n",
    "    This function prints and plots the confusion matrix.\n",
    "    Normalization can be applied by setting `normalize=True`.\n",
    "    \"\"\"\n",
    "    plt.imshow(cm, interpolation='nearest', cmap=cmap)\n",
    "    plt.title(title)\n",
    "    plt.colorbar()\n",
    "    tick_marks = np.arange(len(classes))\n",
    "    plt.xticks(tick_marks, classes, rotation=45)\n",
    "    plt.yticks(tick_marks, classes)\n",
    "\n",
    "    if normalize:\n",
    "        cm = cm.astype('float')/cm.sum(axis=1)[:, np.newaxis]\n",
    "        print(\"Normalized confusion matrix\")\n",
    "    else:\n",
    "        print('Confusion Matrix without normalization')\n",
    "\n",
    "    print(cm)\n",
    "\n",
    "    thresh = cm.max() / 2.\n",
    "    for i, j in itertools.product(range(cm.shape[0]), range(cm.shape[1])):\n",
    "        plt.text(j, i, cm[i,j], horizontalalignment=\"center\",\n",
    "            color=\"white\" if cm[i,j] > thresh else \"black\")\n",
    "    \n",
    "    plt.tight_layout()\n",
    "    plt.ylabel('True label')\n",
    "    plt.xlabel('Predicted label')"
   ]
  },
  {
   "cell_type": "code",
   "execution_count": 3,
   "metadata": {},
   "outputs": [],
   "source": [
    "train_labels = []\n",
    "train_samples = []"
   ]
  },
  {
   "cell_type": "code",
   "execution_count": 4,
   "metadata": {},
   "outputs": [],
   "source": [
    "# Create our own data here of imaginary clinical trial\n",
    "for i in range(50):\n",
    "    # The ~5% of younger individuals who did experience side effects\n",
    "    random_younger = randint(13,64)\n",
    "    train_samples.append(random_younger)\n",
    "    train_labels.append(1) # denotes they did experiences side effects\n",
    "\n",
    "    # The ~5% of older individuals who did NOT experience side effects\n",
    "    random_older = randint(65,100)\n",
    "    train_samples.append(random_older)\n",
    "    train_labels.append(0) # denotes they did NOT experiences side effects"
   ]
  },
  {
   "cell_type": "code",
   "execution_count": 5,
   "metadata": {},
   "outputs": [],
   "source": [
    "for i in range(1000):\n",
    "    # The ~95% of younger individuals who did experience side effects\n",
    "    random_younger = randint(13,64)\n",
    "    train_samples.append(random_younger)\n",
    "    train_labels.append(0) # denotes they did NOT experiences side effects\n",
    "\n",
    "    # The ~95% of older individuals who did NOT experience side effects\n",
    "    random_older = randint(65,100)\n",
    "    train_samples.append(random_older)\n",
    "    train_labels.append(1) # denotes they did experiences side effects"
   ]
  },
  {
   "cell_type": "code",
   "execution_count": 6,
   "metadata": {},
   "outputs": [],
   "source": [
    "## ADDTIONAL CODE to validation_set.py\n",
    "test_labels = []\n",
    "test_samples = []"
   ]
  },
  {
   "cell_type": "code",
   "execution_count": 7,
   "metadata": {},
   "outputs": [],
   "source": [
    "# Create our own data here of imaginary clinical trial\n",
    "for i in range(10):\n",
    "    # The ~5% of younger individuals who did experience side effects\n",
    "    random_younger = randint(13,64)\n",
    "    test_samples.append(random_younger)\n",
    "    test_labels.append(1) # denotes they did experiences side effects\n",
    "\n",
    "    # The ~5% of older individuals who did NOT experience side effects\n",
    "    random_older = randint(65,100)\n",
    "    test_samples.append(random_older)\n",
    "    test_labels.append(0) # denotes they did NOT experiences side effects"
   ]
  },
  {
   "cell_type": "code",
   "execution_count": 8,
   "metadata": {},
   "outputs": [],
   "source": [
    "for i in range(200):\n",
    "    # The ~95% of younger individuals who did experience side effects\n",
    "    random_younger = randint(13,64)\n",
    "    test_samples.append(random_younger)\n",
    "    test_labels.append(0) # denotes they did NOT experiences side effects\n",
    "\n",
    "    # The ~95% of older individuals who did NOT experience side effects\n",
    "    random_older = randint(65,100)\n",
    "    test_samples.append(random_older)\n",
    "    test_labels.append(1) # denotes they did experiences side effects"
   ]
  },
  {
   "cell_type": "code",
   "execution_count": 9,
   "metadata": {},
   "outputs": [],
   "source": [
    "# Now process above data\n",
    "\n",
    "# Make them as numpy array\n",
    "train_labels = np.array(train_labels)\n",
    "train_samples = np.array(train_samples)\n",
    "# Shuffle them to make them random\n",
    "train_labels, train_samples = shuffle(train_labels, train_samples)"
   ]
  },
  {
   "cell_type": "code",
   "execution_count": 10,
   "metadata": {},
   "outputs": [],
   "source": [
    "test_labels = np.array(test_labels)\n",
    "test_samples = np.array(test_samples)\n",
    "# Shuffle them to make them random\n",
    "test_labels, test_samples = shuffle(test_labels, test_samples)"
   ]
  },
  {
   "cell_type": "code",
   "execution_count": 11,
   "metadata": {},
   "outputs": [],
   "source": [
    "# normalize the age data to make them in range of 0 to 1 (as against 13 - 100)\n",
    "scaler = MinMaxScaler(feature_range=(0,1))\n",
    "scaled_train_samples = scaler.fit_transform(train_samples.reshape(-1, 1))\n",
    "scaled_test_samples = scaler.fit_transform(test_samples.reshape(-1, 1))"
   ]
  },
  {
   "cell_type": "code",
   "execution_count": 12,
   "metadata": {},
   "outputs": [],
   "source": [
    "# just print scaled data\n",
    "# for i in scaled_train_samples:\n",
    "#    print(i)\n",
    "\n",
    "model = Sequential([\n",
    "    Dense(units=16, input_shape=(1,), activation='relu'),\n",
    "    Dense(units=32, activation='relu'),\n",
    "    Dense(units=2,  activation='softmax') # units = 2 since we need two outputs (did or did not experience )\n",
    "])"
   ]
  },
  {
   "cell_type": "code",
   "execution_count": 14,
   "metadata": {},
   "outputs": [
    {
     "name": "stdout",
     "output_type": "stream",
     "text": [
      "Model: \"sequential\"\n",
      "_________________________________________________________________\n",
      "Layer (type)                 Output Shape              Param #   \n",
      "=================================================================\n",
      "dense (Dense)                (None, 16)                32        \n",
      "_________________________________________________________________\n",
      "dense_1 (Dense)              (None, 32)                544       \n",
      "_________________________________________________________________\n",
      "dense_2 (Dense)              (None, 2)                 66        \n",
      "=================================================================\n",
      "Total params: 642\n",
      "Trainable params: 642\n",
      "Non-trainable params: 0\n",
      "_________________________________________________________________\n"
     ]
    }
   ],
   "source": [
    "model.summary()"
   ]
  },
  {
   "cell_type": "code",
   "execution_count": 15,
   "metadata": {},
   "outputs": [],
   "source": [
    "# Compile it\n",
    "model.compile(optimizer=Adam(learning_rate=0.0001), loss='sparse_categorical_crossentropy', metrics=['accuracy'])"
   ]
  },
  {
   "cell_type": "code",
   "execution_count": 17,
   "metadata": {},
   "outputs": [
    {
     "name": "stdout",
     "output_type": "stream",
     "text": [
      "Epoch 1/39\n",
      "189/189 - 0s - loss: 0.2527 - accuracy: 0.9423 - val_loss: 0.2316 - val_accuracy: 0.9524\n",
      "Epoch 2/39\n",
      "189/189 - 0s - loss: 0.2522 - accuracy: 0.9444 - val_loss: 0.2314 - val_accuracy: 0.9524\n",
      "Epoch 3/39\n",
      "189/189 - 0s - loss: 0.2515 - accuracy: 0.9397 - val_loss: 0.2308 - val_accuracy: 0.9524\n",
      "Epoch 4/39\n",
      "189/189 - 0s - loss: 0.2513 - accuracy: 0.9423 - val_loss: 0.2303 - val_accuracy: 0.9524\n",
      "Epoch 5/39\n",
      "189/189 - 0s - loss: 0.2507 - accuracy: 0.9423 - val_loss: 0.2301 - val_accuracy: 0.9524\n",
      "Epoch 6/39\n",
      "189/189 - 0s - loss: 0.2503 - accuracy: 0.9434 - val_loss: 0.2299 - val_accuracy: 0.9524\n",
      "Epoch 7/39\n",
      "189/189 - 0s - loss: 0.2498 - accuracy: 0.9423 - val_loss: 0.2294 - val_accuracy: 0.9524\n",
      "Epoch 8/39\n",
      "189/189 - 0s - loss: 0.2494 - accuracy: 0.9423 - val_loss: 0.2292 - val_accuracy: 0.9524\n",
      "Epoch 9/39\n",
      "189/189 - 0s - loss: 0.2489 - accuracy: 0.9429 - val_loss: 0.2288 - val_accuracy: 0.9524\n",
      "Epoch 10/39\n",
      "189/189 - 0s - loss: 0.2484 - accuracy: 0.9423 - val_loss: 0.2285 - val_accuracy: 0.9524\n",
      "Epoch 11/39\n",
      "189/189 - 0s - loss: 0.2479 - accuracy: 0.9434 - val_loss: 0.2282 - val_accuracy: 0.9524\n",
      "Epoch 12/39\n",
      "189/189 - 0s - loss: 0.2475 - accuracy: 0.9423 - val_loss: 0.2281 - val_accuracy: 0.9524\n",
      "Epoch 13/39\n",
      "189/189 - 0s - loss: 0.2470 - accuracy: 0.9466 - val_loss: 0.2276 - val_accuracy: 0.9524\n",
      "Epoch 14/39\n",
      "189/189 - 0s - loss: 0.2466 - accuracy: 0.9423 - val_loss: 0.2274 - val_accuracy: 0.9524\n",
      "Epoch 15/39\n",
      "189/189 - 0s - loss: 0.2462 - accuracy: 0.9423 - val_loss: 0.2274 - val_accuracy: 0.9524\n",
      "Epoch 16/39\n",
      "189/189 - 0s - loss: 0.2457 - accuracy: 0.9423 - val_loss: 0.2270 - val_accuracy: 0.9524\n",
      "Epoch 17/39\n",
      "189/189 - 0s - loss: 0.2454 - accuracy: 0.9466 - val_loss: 0.2265 - val_accuracy: 0.9524\n",
      "Epoch 18/39\n",
      "189/189 - 0s - loss: 0.2449 - accuracy: 0.9423 - val_loss: 0.2263 - val_accuracy: 0.9524\n",
      "Epoch 19/39\n",
      "189/189 - 0s - loss: 0.2445 - accuracy: 0.9429 - val_loss: 0.2261 - val_accuracy: 0.9524\n",
      "Epoch 20/39\n",
      "189/189 - 0s - loss: 0.2442 - accuracy: 0.9434 - val_loss: 0.2259 - val_accuracy: 0.9524\n",
      "Epoch 21/39\n",
      "189/189 - 0s - loss: 0.2438 - accuracy: 0.9423 - val_loss: 0.2255 - val_accuracy: 0.9524\n",
      "Epoch 22/39\n",
      "189/189 - 0s - loss: 0.2434 - accuracy: 0.9423 - val_loss: 0.2253 - val_accuracy: 0.9524\n",
      "Epoch 23/39\n",
      "189/189 - 0s - loss: 0.2430 - accuracy: 0.9429 - val_loss: 0.2250 - val_accuracy: 0.9524\n",
      "Epoch 24/39\n",
      "189/189 - 0s - loss: 0.2427 - accuracy: 0.9423 - val_loss: 0.2247 - val_accuracy: 0.9524\n",
      "Epoch 25/39\n",
      "189/189 - 0s - loss: 0.2425 - accuracy: 0.9444 - val_loss: 0.2242 - val_accuracy: 0.9524\n",
      "Epoch 26/39\n",
      "189/189 - 0s - loss: 0.2421 - accuracy: 0.9444 - val_loss: 0.2242 - val_accuracy: 0.9524\n",
      "Epoch 27/39\n",
      "189/189 - 0s - loss: 0.2416 - accuracy: 0.9455 - val_loss: 0.2236 - val_accuracy: 0.9524\n",
      "Epoch 28/39\n",
      "189/189 - 0s - loss: 0.2411 - accuracy: 0.9434 - val_loss: 0.2240 - val_accuracy: 0.9524\n",
      "Epoch 29/39\n",
      "189/189 - 0s - loss: 0.2411 - accuracy: 0.9487 - val_loss: 0.2231 - val_accuracy: 0.9524\n",
      "Epoch 30/39\n",
      "189/189 - 0s - loss: 0.2412 - accuracy: 0.9429 - val_loss: 0.2233 - val_accuracy: 0.9524\n",
      "Epoch 31/39\n",
      "189/189 - 0s - loss: 0.2407 - accuracy: 0.9455 - val_loss: 0.2228 - val_accuracy: 0.9524\n",
      "Epoch 32/39\n",
      "189/189 - 0s - loss: 0.2402 - accuracy: 0.9429 - val_loss: 0.2225 - val_accuracy: 0.9524\n",
      "Epoch 33/39\n",
      "189/189 - 0s - loss: 0.2400 - accuracy: 0.9455 - val_loss: 0.2222 - val_accuracy: 0.9524\n",
      "Epoch 34/39\n",
      "189/189 - 0s - loss: 0.2397 - accuracy: 0.9444 - val_loss: 0.2219 - val_accuracy: 0.9524\n",
      "Epoch 35/39\n",
      "189/189 - 0s - loss: 0.2394 - accuracy: 0.9444 - val_loss: 0.2217 - val_accuracy: 0.9524\n",
      "Epoch 36/39\n",
      "189/189 - 0s - loss: 0.2390 - accuracy: 0.9434 - val_loss: 0.2217 - val_accuracy: 0.9524\n",
      "Epoch 37/39\n",
      "189/189 - 0s - loss: 0.2388 - accuracy: 0.9476 - val_loss: 0.2212 - val_accuracy: 0.9524\n",
      "Epoch 38/39\n",
      "189/189 - 0s - loss: 0.2386 - accuracy: 0.9429 - val_loss: 0.2211 - val_accuracy: 0.9524\n",
      "Epoch 39/39\n",
      "189/189 - 0s - loss: 0.2384 - accuracy: 0.9471 - val_loss: 0.2207 - val_accuracy: 0.9524\n"
     ]
    },
    {
     "data": {
      "text/plain": [
       "<tensorflow.python.keras.callbacks.History at 0x7f2630123c18>"
      ]
     },
     "execution_count": 17,
     "metadata": {},
     "output_type": "execute_result"
    }
   ],
   "source": [
    "# Train it and split 10% of data as validation set\n",
    "# even though shuffle is true, validation set is seperated before shuffle, so it may not contain random data as we want\n",
    "# we will see val_loss & val_accuracy output as against when we did not specify the validation split param\n",
    "model.fit(x=scaled_train_samples, y=train_labels, validation_split=0.1, batch_size=10, epochs=39, shuffle=True, verbose=2)"
   ]
  },
  {
   "cell_type": "code",
   "execution_count": 18,
   "metadata": {},
   "outputs": [],
   "source": [
    "# NOW PREDICT using test samples\n",
    "predictions = model.predict(x=scaled_test_samples, batch_size=10, verbose=0)\n",
    "rounded_predictions = np.argmax(predictions, axis=-1)"
   ]
  },
  {
   "cell_type": "code",
   "execution_count": 19,
   "metadata": {},
   "outputs": [],
   "source": [
    "cm = confusion_matrix(y_true=test_labels, y_pred=rounded_predictions)"
   ]
  },
  {
   "cell_type": "code",
   "execution_count": 20,
   "metadata": {},
   "outputs": [],
   "source": [
    "cm_plot_labels = ['No Side Effects', 'Side Effects']"
   ]
  },
  {
   "cell_type": "code",
   "execution_count": 21,
   "metadata": {},
   "outputs": [
    {
     "name": "stdout",
     "output_type": "stream",
     "text": [
      "Confusion Matrix without normalization\n",
      "[[196  14]\n",
      " [ 10 200]]\n"
     ]
    },
    {
     "data": {
      "image/png": "[encoded data removed]",
      "text/plain": [
       "<Figure size 432x288 with 2 Axes>"
      ]
     },
     "metadata": {
      "needs_background": "light"
     },
     "output_type": "display_data"
    }
   ],
   "source": [
    "my_plot_confusion_matrix(cm=cm, classes=cm_plot_labels, title='Confusion Matrix')"
   ]
  },
  {
   "cell_type": "markdown",
   "metadata": {},
   "source": [
    "## Save and Load a Model"
   ]
  },
  {
   "cell_type": "code",
   "execution_count": 22,
   "metadata": {},
   "outputs": [
    {
     "name": "stdout",
     "output_type": "stream",
     "text": [
      "Model: \"sequential\"\n",
      "_________________________________________________________________\n",
      "Layer (type)                 Output Shape              Param #   \n",
      "=================================================================\n",
      "dense (Dense)                (None, 16)                32        \n",
      "_________________________________________________________________\n",
      "dense_1 (Dense)              (None, 32)                544       \n",
      "_________________________________________________________________\n",
      "dense_2 (Dense)              (None, 2)                 66        \n",
      "=================================================================\n",
      "Total params: 642\n",
      "Trainable params: 642\n",
      "Non-trainable params: 0\n",
      "_________________________________________________________________\n"
     ]
    }
   ],
   "source": [
    "model.summary()"
   ]
  },
  {
   "cell_type": "markdown",
   "metadata": {},
   "source": [
    "### 1. model.save()"
   ]
  },
  {
   "cell_type": "code",
   "execution_count": 23,
   "metadata": {},
   "outputs": [],
   "source": [
    "# check is file already exist and save if not\n",
    "import os.path\n",
    "filename = 'models/medical_trial_model.h5'\n",
    "if os.path.isfile(filename) is False:\n",
    "    model.save(filename)"
   ]
  },
  {
   "cell_type": "markdown",
   "metadata": {},
   "source": [
    " This saves:\n",
    " \n",
    "    * The arch of the model which allows to re-create the model\n",
    "    * The weights of the model\n",
    "    * The training configuration (loss, optimizer)\n",
    "    * The state of the optimizer, allowing to resume training exactly where you left off"
   ]
  },
  {
   "cell_type": "code",
   "execution_count": 24,
   "metadata": {},
   "outputs": [],
   "source": [
    "from tensorflow.keras.models import load_model\n",
    "new_model = load_model(filename)"
   ]
  },
  {
   "cell_type": "code",
   "execution_count": 25,
   "metadata": {},
   "outputs": [
    {
     "name": "stdout",
     "output_type": "stream",
     "text": [
      "Model: \"sequential\"\n",
      "_________________________________________________________________\n",
      "Layer (type)                 Output Shape              Param #   \n",
      "=================================================================\n",
      "dense (Dense)                (None, 16)                32        \n",
      "_________________________________________________________________\n",
      "dense_1 (Dense)              (None, 32)                544       \n",
      "_________________________________________________________________\n",
      "dense_2 (Dense)              (None, 2)                 66        \n",
      "=================================================================\n",
      "Total params: 642\n",
      "Trainable params: 642\n",
      "Non-trainable params: 0\n",
      "_________________________________________________________________\n"
     ]
    }
   ],
   "source": [
    "new_model.summary()"
   ]
  },
  {
   "cell_type": "code",
   "execution_count": 26,
   "metadata": {},
   "outputs": [
    {
     "data": {
      "text/plain": [
       "[array([[ 0.33447263, -0.06141913, -0.189046  ,  0.36264455, -0.07475865,\n",
       "          0.42118412,  0.7775639 , -0.21770126,  0.01060589,  0.48594734,\n",
       "          0.686629  ,  0.2231412 , -0.1334934 ,  0.4965591 ,  0.2947379 ,\n",
       "         -0.5303366 ]], dtype=float32),\n",
       " array([-0.14916816,  0.        ,  0.        , -0.15088257,  0.        ,\n",
       "        -0.16129212, -0.13617486,  0.        ,  0.21072024, -0.00867426,\n",
       "        -0.14200732,  0.17759165,  0.        , -0.15944642, -0.0968411 ,\n",
       "         0.        ], dtype=float32),\n",
       " array([[-5.00262022e-01,  8.23052451e-02, -3.88523340e-01,\n",
       "          5.08974075e-01,  1.10815696e-01, -2.46899620e-01,\n",
       "          3.20480227e-01,  3.91989537e-02, -4.02723551e-01,\n",
       "          2.38108724e-01, -9.14708748e-02, -1.19445354e-01,\n",
       "         -7.57489204e-02, -5.07682323e-01, -3.11396182e-01,\n",
       "          1.93178922e-01, -4.88035828e-01,  7.53148645e-03,\n",
       "         -2.58084029e-01, -8.08753818e-02,  1.00681059e-01,\n",
       "          3.53221655e-01, -1.97163045e-01, -3.68052013e-02,\n",
       "         -5.46867371e-01, -6.21176720e-01, -1.04472749e-02,\n",
       "         -2.00825438e-01,  3.30166072e-02, -5.38767762e-02,\n",
       "         -5.67458905e-02, -1.88093886e-01],\n",
       "        [-3.13407063e-01,  4.77716923e-02, -7.42586255e-02,\n",
       "          5.08907139e-02, -1.78518370e-01,  1.06889218e-01,\n",
       "          1.05953634e-01,  8.13324451e-02,  3.02060574e-01,\n",
       "         -2.20514834e-01, -2.13831857e-01, -1.03157371e-01,\n",
       "         -1.35449678e-01, -1.93886206e-01, -2.64472067e-01,\n",
       "          1.66164726e-01,  9.11916196e-02,  3.03015709e-02,\n",
       "          1.39430106e-01,  2.86506861e-01,  3.32557768e-01,\n",
       "          3.28655243e-02,  3.25649530e-01,  2.97390431e-01,\n",
       "          1.37946457e-01,  1.65863425e-01, -1.75342605e-01,\n",
       "         -1.76260144e-01, -3.07466388e-02,  3.37165922e-01,\n",
       "          6.91589415e-02, -3.24522972e-01],\n",
       "        [ 1.50910348e-01,  2.86616594e-01,  6.00283146e-02,\n",
       "          2.26087004e-01,  1.67086214e-01, -2.38105953e-02,\n",
       "         -2.25773409e-01, -3.08738381e-01,  2.05263227e-01,\n",
       "         -3.09948862e-01,  2.59774536e-01,  2.28795677e-01,\n",
       "         -1.17984965e-01, -1.77230835e-02, -6.54338300e-02,\n",
       "         -7.34182000e-02, -6.82139993e-02,  3.13461632e-01,\n",
       "         -1.72779322e-01, -3.07375014e-01, -2.50176191e-01,\n",
       "         -1.86411127e-01, -1.20563075e-01,  3.09420228e-02,\n",
       "          3.67537141e-03,  2.94503897e-01,  2.98540592e-02,\n",
       "          3.18326265e-01, -3.70759070e-02,  2.42094010e-01,\n",
       "          1.30829304e-01, -3.42141718e-01],\n",
       "        [-3.10542822e-01, -5.25187850e-01, -1.53896613e-02,\n",
       "          4.86588895e-01,  1.39908388e-01, -4.60229099e-01,\n",
       "          5.02305746e-01,  1.32582307e-01, -1.09714165e-01,\n",
       "          6.69417605e-02, -2.04299226e-01,  1.80830747e-01,\n",
       "          1.44414306e-01, -4.36433941e-01, -3.11293244e-01,\n",
       "          1.81485206e-01, -4.44622219e-01, -3.78917098e-01,\n",
       "          2.31650770e-02,  2.26453066e-01,  1.74975961e-01,\n",
       "          4.53406364e-01, -2.61335909e-01,  2.17764936e-02,\n",
       "         -6.91325366e-02, -3.71724993e-01, -4.17558759e-01,\n",
       "         -4.17860866e-01,  4.56159795e-03,  1.78421304e-01,\n",
       "         -2.61380792e-01,  2.50685722e-01],\n",
       "        [ 1.38067901e-02, -3.38870853e-01, -2.92290747e-01,\n",
       "         -1.42102823e-01, -3.00827861e-01,  2.00685650e-01,\n",
       "          2.51796752e-01, -5.70192933e-02, -3.38642746e-01,\n",
       "         -6.63696527e-02, -2.85763055e-01, -2.02831194e-01,\n",
       "          1.07833564e-01,  3.06963921e-02, -1.04726240e-01,\n",
       "          1.01320088e-01,  8.95949304e-02,  1.57590777e-01,\n",
       "         -3.95540595e-02,  2.55448014e-01,  9.33406949e-02,\n",
       "         -2.38819808e-01, -1.59452572e-01,  2.51823872e-01,\n",
       "         -1.67476535e-02, -2.56891847e-01, -4.28727269e-03,\n",
       "          1.15719140e-02, -6.57210052e-02,  7.71628618e-02,\n",
       "         -1.74325347e-01,  9.43860114e-02],\n",
       "        [-4.40976918e-01, -1.98293477e-01,  1.21601969e-01,\n",
       "          5.41531146e-01, -4.01371121e-01, -1.14528649e-01,\n",
       "          2.61504591e-01,  4.74191129e-01, -3.73882681e-01,\n",
       "          3.14362466e-01, -2.31443703e-01,  2.40056157e-01,\n",
       "         -3.09342742e-02, -1.03090137e-01, -5.68635225e-01,\n",
       "         -5.53777143e-02, -2.69980103e-01, -3.96756560e-01,\n",
       "          3.45780343e-01, -1.66815773e-01,  4.00848359e-01,\n",
       "          3.06062758e-01,  4.24209237e-03,  6.15785047e-02,\n",
       "         -5.05196750e-01, -4.49936569e-01, -3.32927465e-01,\n",
       "          1.12565942e-01, -2.84621984e-01,  3.16373631e-02,\n",
       "         -1.20348059e-01,  3.03082615e-01],\n",
       "        [ 1.73122913e-01,  6.35594353e-02,  3.76875885e-02,\n",
       "          1.53046966e-01, -2.76713699e-01,  2.18863562e-02,\n",
       "          2.56871223e-01,  5.56063175e-01, -1.47008896e-01,\n",
       "         -9.49572548e-02, -1.05113097e-01,  1.65771767e-01,\n",
       "         -8.65174606e-02, -4.21385705e-01, -3.42704415e-01,\n",
       "          9.35961008e-02,  5.88171463e-03, -8.53477232e-03,\n",
       "         -1.87462091e-01, -4.85750772e-02,  5.04647255e-01,\n",
       "          3.78005534e-01, -2.60480851e-01, -2.77278870e-01,\n",
       "         -5.79833090e-02, -4.63369228e-02, -1.79764420e-01,\n",
       "         -4.19367373e-01, -1.59161627e-01,  3.70946079e-01,\n",
       "         -3.94997686e-01, -3.48483145e-01],\n",
       "        [ 2.66973585e-01,  2.83147424e-01, -9.37550664e-02,\n",
       "          1.93139762e-01, -1.98304042e-01,  3.22888166e-01,\n",
       "          2.88063079e-01, -2.99968898e-01, -3.08930248e-01,\n",
       "          2.16114193e-01,  8.86116326e-02,  1.22808754e-01,\n",
       "         -2.91824937e-01, -2.31661081e-01, -2.90531635e-01,\n",
       "         -8.98346603e-02,  5.10449708e-02, -2.31945813e-01,\n",
       "          2.42753595e-01, -3.13975543e-01,  3.29995304e-01,\n",
       "          2.46342450e-01, -1.62158400e-01,  1.56159490e-01,\n",
       "         -1.08387619e-01, -2.96554089e-01,  3.31106573e-01,\n",
       "         -8.53250325e-02, -1.30688265e-01,  1.06045514e-01,\n",
       "          2.08534032e-01,  2.20424026e-01],\n",
       "        [ 1.74558759e-01,  2.93431610e-01,  3.28324348e-01,\n",
       "         -1.13950096e-01,  5.27679503e-01,  4.82745469e-01,\n",
       "         -4.85694744e-02,  2.88643718e-01,  1.45464078e-01,\n",
       "         -1.31704539e-01,  1.66244805e-01, -1.12812065e-01,\n",
       "          9.27006304e-02,  2.60391414e-01,  4.48613852e-01,\n",
       "         -1.36496365e-01,  5.27580976e-02,  4.12561834e-01,\n",
       "         -2.38700360e-01, -3.42873305e-01, -3.93573605e-02,\n",
       "          2.24663630e-01,  7.10324571e-02,  1.57565400e-01,\n",
       "          4.40312028e-01, -1.31053910e-01,  4.29802358e-01,\n",
       "         -1.50983125e-01, -3.01663309e-01,  2.24506736e-01,\n",
       "          4.33246195e-01,  2.58573830e-01],\n",
       "        [ 1.29708856e-01, -2.00137779e-01, -4.17867489e-02,\n",
       "          3.64374518e-01,  2.69532576e-03, -2.34210625e-01,\n",
       "          7.83411562e-02, -6.44401237e-02, -1.71574742e-01,\n",
       "         -2.93731511e-01, -2.83224940e-01, -2.11192101e-01,\n",
       "         -1.89672947e-01,  2.31368959e-01, -1.61640853e-01,\n",
       "          6.65187910e-02,  1.34460226e-01, -2.23607674e-01,\n",
       "         -1.32391006e-01,  2.57967532e-01, -1.79594710e-01,\n",
       "          3.11775059e-01, -8.65120292e-02,  1.29118621e-01,\n",
       "          1.41171753e-01,  2.79233038e-01, -1.02934562e-01,\n",
       "          1.59729704e-01,  3.47988695e-01, -3.64750586e-02,\n",
       "         -1.43913507e-01, -3.69958252e-01],\n",
       "        [-7.98203498e-02, -4.73604798e-02, -3.83823872e-01,\n",
       "          4.13123012e-01, -1.31847113e-01, -2.57060260e-01,\n",
       "          1.89260930e-01,  4.49222386e-01,  9.88092199e-02,\n",
       "         -4.89444397e-02, -3.45227450e-01, -4.84458245e-02,\n",
       "          1.61530599e-01, -9.48317498e-02,  5.34154028e-02,\n",
       "         -3.02182566e-02, -2.95295656e-01, -2.15442985e-01,\n",
       "          3.40508521e-02,  6.08367808e-02, -8.80618915e-02,\n",
       "          3.04356188e-01,  1.93388566e-01,  7.09127486e-02,\n",
       "         -4.76111650e-01, -3.03360283e-01, -5.98208532e-02,\n",
       "         -1.09744489e-01,  5.26932627e-02,  4.66771752e-01,\n",
       "          1.99568868e-01,  1.62310034e-01],\n",
       "        [-1.64160341e-01,  1.52811468e-01, -1.01137564e-01,\n",
       "          2.24462837e-01, -2.03083098e-01,  3.33209485e-01,\n",
       "          2.37528667e-01,  2.51604393e-02, -5.89857064e-02,\n",
       "         -4.06510290e-03,  9.84723195e-02,  1.17131481e-02,\n",
       "         -2.41014302e-01,  1.21325612e-01,  2.21752539e-01,\n",
       "         -1.45990998e-01,  8.97879899e-02,  9.47070047e-02,\n",
       "          1.78566009e-01, -3.37109357e-01,  4.25031126e-01,\n",
       "         -1.47000521e-01, -4.84088995e-02,  1.85832605e-01,\n",
       "          2.57319748e-01,  8.39285478e-02,  1.00010268e-01,\n",
       "          2.31432870e-01, -3.44388098e-01, -5.36510460e-02,\n",
       "          8.87329131e-02, -1.16268389e-01],\n",
       "        [ 2.81115502e-01,  2.34952718e-01,  2.03657538e-01,\n",
       "          1.10976517e-01, -2.51248062e-01,  3.28172654e-01,\n",
       "         -2.05855653e-01,  1.31425500e-01, -2.97463864e-01,\n",
       "         -2.45541304e-01,  2.53721386e-01, -3.24309111e-01,\n",
       "         -1.56309083e-01,  2.59911269e-01, -8.92213285e-02,\n",
       "         -2.15691715e-01,  9.28938389e-05, -2.77429760e-01,\n",
       "         -7.91785121e-02, -2.64734030e-01,  5.08594513e-02,\n",
       "          1.05974615e-01, -1.11124545e-01, -2.60926187e-02,\n",
       "          6.51612878e-02,  1.55903488e-01, -1.23066440e-01,\n",
       "         -3.37465584e-01, -7.89617896e-02, -3.42490852e-01,\n",
       "          5.64433932e-02, -3.06466579e-01],\n",
       "        [-4.64227945e-01, -2.81630933e-01, -1.08246394e-01,\n",
       "          2.03531966e-01, -3.21342826e-01, -4.28828061e-01,\n",
       "          5.07003069e-01,  1.59928665e-01, -1.27076074e-01,\n",
       "          2.32831642e-01,  1.82747230e-01, -6.94002360e-02,\n",
       "          2.63685614e-01, -2.56116744e-02, -1.93239048e-01,\n",
       "         -2.51820177e-01, -4.54818875e-01, -4.59433764e-01,\n",
       "         -2.53954828e-01,  1.72096059e-01,  5.08500755e-01,\n",
       "          3.05399776e-01, -5.96731231e-02, -1.89558476e-01,\n",
       "         -2.19277948e-01, -1.59577150e-02, -4.78382528e-01,\n",
       "         -2.56881475e-01,  2.02221408e-01,  5.34049094e-01,\n",
       "         -4.92733926e-01,  3.51357967e-01],\n",
       "        [-3.46063137e-01, -2.85655558e-01,  1.30431965e-01,\n",
       "          5.03932536e-01, -3.44505757e-02, -5.25156558e-01,\n",
       "          2.54117817e-01,  2.90448695e-01, -2.25451007e-01,\n",
       "         -3.76735739e-02, -7.21063912e-02, -1.70017436e-01,\n",
       "         -6.18418679e-03, -3.75071496e-01,  9.47984308e-02,\n",
       "          2.06859127e-01,  7.45079219e-02,  5.85531862e-03,\n",
       "         -1.73144475e-01,  1.94922596e-01,  5.21360457e-01,\n",
       "          1.75042287e-01,  2.16358081e-01, -4.55789298e-01,\n",
       "         -3.91510189e-01,  3.16215456e-02,  1.16618713e-02,\n",
       "         -2.74731405e-02,  2.37644508e-01,  2.69533604e-01,\n",
       "         -9.10397768e-02,  2.50455201e-01],\n",
       "        [ 2.83237785e-01, -2.26379320e-01,  1.61613017e-01,\n",
       "          1.08502924e-01,  2.67740637e-01, -1.96427107e-02,\n",
       "         -1.90746263e-01,  2.03428954e-01, -2.65177011e-01,\n",
       "          1.52497500e-01,  1.12377137e-01, -4.70401943e-02,\n",
       "         -9.46508646e-02,  2.06678540e-01, -9.90097821e-02,\n",
       "         -1.23758569e-01,  1.13213599e-01, -1.93681121e-01,\n",
       "         -5.07017374e-02, -1.97308660e-02, -3.48110706e-01,\n",
       "         -8.82766545e-02, -2.85265714e-01,  6.97773099e-02,\n",
       "         -5.67460954e-02, -3.41114849e-01, -2.98872411e-01,\n",
       "          4.56579328e-02,  8.98618102e-02,  1.35926008e-02,\n",
       "          1.54289603e-02, -4.21164930e-02]], dtype=float32),\n",
       " array([ 0.20029485,  0.09962845,  0.11142085, -0.07241412,  0.20148285,\n",
       "         0.1727829 , -0.07116397, -0.08471507,  0.22011119, -0.00501176,\n",
       "         0.21610714, -0.01223249, -0.0005225 ,  0.18484488,  0.17141365,\n",
       "        -0.01228507,  0.22287737,  0.21293682,  0.        , -0.02362845,\n",
       "        -0.04755051, -0.07437904, -0.00738319,  0.04360008,  0.17362949,\n",
       "         0.18727963,  0.18328118,  0.20731409, -0.00326716, -0.06563877,\n",
       "         0.16898063, -0.03466159], dtype=float32),\n",
       " array([[ 0.7876498 , -0.26047948],\n",
       "        [ 0.0766033 , -0.45385697],\n",
       "        [ 0.49650267, -0.57327944],\n",
       "        [-0.47024348,  0.53772074],\n",
       "        [ 0.595815  , -0.79636896],\n",
       "        [ 0.41429314, -0.6710035 ],\n",
       "        [-0.43325004,  0.1971531 ],\n",
       "        [-0.24182206,  0.29395694],\n",
       "        [ 0.31100485, -0.6515285 ],\n",
       "        [ 0.2261487 , -0.29876387],\n",
       "        [ 0.08881302, -0.81024   ],\n",
       "        [ 0.33594656,  0.1421794 ],\n",
       "        [-0.38546315,  0.06686305],\n",
       "        [ 0.56603014, -0.53274304],\n",
       "        [ 0.7275469 , -0.29851088],\n",
       "        [-0.23559141, -0.27132213],\n",
       "        [ 0.33309576, -0.6642013 ],\n",
       "        [ 0.7584722 , -0.271253  ],\n",
       "        [ 0.17085686, -0.22151527],\n",
       "        [ 0.00363473, -0.1551384 ],\n",
       "        [-0.61368936,  0.29296052],\n",
       "        [-0.57870173,  0.6033251 ],\n",
       "        [-0.19419077, -0.07387901],\n",
       "        [ 0.22722767, -0.30235854],\n",
       "        [ 0.46758994, -0.6199066 ],\n",
       "        [ 0.8122619 , -0.05472313],\n",
       "        [ 0.7816333 , -0.56126887],\n",
       "        [ 0.4210177 , -0.647788  ],\n",
       "        [-0.24706072, -0.06606857],\n",
       "        [-0.2902563 ,  0.44962806],\n",
       "        [ 0.25654835, -0.74080735],\n",
       "        [-0.35314235, -0.14179583]], dtype=float32),\n",
       " array([ 0.05173629, -0.05173628], dtype=float32)]"
      ]
     },
     "execution_count": 26,
     "metadata": {},
     "output_type": "execute_result"
    }
   ],
   "source": [
    "new_model.get_weights()"
   ]
  },
  {
   "cell_type": "code",
   "execution_count": 27,
   "metadata": {},
   "outputs": [
    {
     "data": {
      "text/plain": [
       "<tensorflow.python.keras.optimizer_v2.adam.Adam at 0x7f2630119da0>"
      ]
     },
     "execution_count": 27,
     "metadata": {},
     "output_type": "execute_result"
    }
   ],
   "source": [
    "new_model.optimizer"
   ]
  }
 ],
 "metadata": {
  "kernelspec": {
   "display_name": "Python 3",
   "language": "python",
   "name": "python3"
  },
  "language_info": {
   "codemirror_mode": {
    "name": "ipython",
    "version": 3
   },
   "file_extension": ".py",
   "mimetype": "text/x-python",
   "name": "python",
   "nbconvert_exporter": "python",
   "pygments_lexer": "ipython3",
   "version": "3.6.9"
  }
 },
 "nbformat": 4,
 "nbformat_minor": 4
}
